{
 "cells": [
  {
   "cell_type": "code",
   "execution_count": 2,
   "id": "8881e901-f312-4241-817a-930c9c74f4da",
   "metadata": {},
   "outputs": [
    {
     "name": "stdout",
     "output_type": "stream",
     "text": [
      "task 1 done\n"
     ]
    }
   ],
   "source": [
    "from langchain_openai import ChatOpenAI\n",
    "from langchain_core.runnables import RunnablePassthrough\n",
    "from langchain_core.output_parsers import StrOutputParser\n",
    "from langchain_core.prompts import ChatPromptTemplate\n",
    "\n",
    "translation_template = \"\"\"\n",
    "Translate the following sentence into {language}, return ONLY the translation, nothing else.\n",
    "\n",
    "Sentence: {sentence}\n",
    "\"\"\"\n",
    "\n",
    "output_parser = StrOutputParser()\n",
    "llm = ChatOpenAI(temperature=0.0, model=\"gpt-4-turbo\")\n",
    "translation_prompt = ChatPromptTemplate.from_template(translation_template)\n",
    "\n",
    "translation_chain = (\n",
    "    {\"language\": RunnablePassthrough(), \"sentence\": RunnablePassthrough()} \n",
    "    | translation_prompt\n",
    "    | llm\n",
    "    | output_parser\n",
    ")\n",
    "\n",
    "def translate(sentence, language=\"French\"):\n",
    "    data_input = {\"language\": language, \"sentence\": sentence}\n",
    "    translation = translation_chain.invoke(data_input)\n",
    "    return translation\n",
    "print(\"task 1 done\")"
   ]
  },
  {
   "cell_type": "code",
   "execution_count": 3,
   "id": "13bbc2ae-99c9-4a4b-a42f-7ea9ea0784b5",
   "metadata": {},
   "outputs": [
    {
     "name": "stdout",
     "output_type": "stream",
     "text": [
      "audio ok task 2\n"
     ]
    }
   ],
   "source": [
    "from elevenlabs.client import ElevenLabs\n",
    "from elevenlabs import play, stream\n",
    "\n",
    "client = ElevenLabs()\n",
    "\n",
    "def gen_dub(text):\n",
    "    print(\"Generating audio...\")\n",
    "    audio = client.generate(\n",
    "        text=text,\n",
    "        voice=\"ErXwobaYiN019PkySvjV\", # Insert voice model here!\n",
    "        model=\"eleven_multilingual_v2\"\n",
    "    )\n",
    "    play(audio)\n",
    "    print(audio)\n",
    "\n",
    "print(\"audio ok task 2\")"
   ]
  },
  {
   "cell_type": "code",
   "execution_count": 4,
   "id": "3ea3a750-1b1f-4756-903a-2f980db37cad",
   "metadata": {},
   "outputs": [
    {
     "name": "stdout",
     "output_type": "stream",
     "text": [
      "task 3 aider fucntion done\n"
     ]
    }
   ],
   "source": [
    "import assemblyai as aai\n",
    "\n",
    "def on_open(session_opened: aai.RealtimeSessionOpened):\n",
    "  \"This function is called when the connection has been established.\"\n",
    "  print(\"Session ID:\", session_opened.session_id)\n",
    "\n",
    "def on_data(transcript: aai.RealtimeTranscript):\n",
    "  \"This function is called when a new transcript has been received.\"\n",
    "  if not transcript.text:\n",
    "    return\n",
    "\n",
    "  if isinstance(transcript, aai.RealtimeFinalTranscript):\n",
    "    print(transcript.text, end=\"\\r\\n\")\n",
    "    print(\"Translating...\")\n",
    "    translation = translate(str(transcript.text))\n",
    "    print(f\"Translation: {translation}\")\n",
    "    gen_dub(translation)\n",
    "  else:\n",
    "    print(transcript.text, end=\"\\r\")\n",
    "      \n",
    "def on_error(error: aai.RealtimeError):\n",
    "  \"This function is called when the connection has been closed.\"\n",
    "  print(\"An error occured:\", error)\n",
    "\n",
    "def on_close():\n",
    "  \"This function is called when the connection has been closed.\"\n",
    "  print(\"Closing Session\")\n",
    "\n",
    "transcriber = aai.RealtimeTranscriber(\n",
    "  on_data=on_data,\n",
    "  on_error=on_error,\n",
    "  sample_rate=44_100,\n",
    "  on_open=on_open, # optional\n",
    "  on_close=on_close, # optional\n",
    ")\n",
    "print(\"task 3 aider fucntion done\")\n"
   ]
  },
  {
   "cell_type": "code",
   "execution_count": null,
   "id": "dd9e2d4e-9565-49a0-85b3-badf64ace381",
   "metadata": {},
   "outputs": [
    {
     "name": "stdout",
     "output_type": "stream",
     "text": [
      "Session ID: 2d05a17b-6bb7-455d-9d1b-f0b11633921b\n",
      "Hello. How are you?\n",
      "Translating...\n",
      "Translation: Bonjour. Comment ça va ?\n",
      "Generating audio...\n",
      "<generator object TextToSpeechClient.convert at 0x0000025F0F26EDC0>\n"
     ]
    }
   ],
   "source": [
    "transcriber.connect()\n",
    "microphone_stream = aai.extras.MicrophoneStream()\n",
    "transcriber.stream(microphone_stream)"
   ]
  },
  {
   "cell_type": "code",
   "execution_count": null,
   "id": "29de933e-13bf-4e26-90e0-e9a64bcdc665",
   "metadata": {},
   "outputs": [],
   "source": []
  }
 ],
 "metadata": {
  "kernelspec": {
   "display_name": "Python 3 (ipykernel)",
   "language": "python",
   "name": "python3"
  },
  "language_info": {
   "codemirror_mode": {
    "name": "ipython",
    "version": 3
   },
   "file_extension": ".py",
   "mimetype": "text/x-python",
   "name": "python",
   "nbconvert_exporter": "python",
   "pygments_lexer": "ipython3",
   "version": "3.11.0"
  }
 },
 "nbformat": 4,
 "nbformat_minor": 5
}
